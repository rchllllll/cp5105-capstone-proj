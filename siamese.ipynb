{
  "cells": [
    {
      "cell_type": "markdown",
      "metadata": {
        "id": "view-in-github",
        "colab_type": "text"
      },
      "source": [
        "<a href=\"https://colab.research.google.com/github/rchllllll/cp5105-capstone-proj/blob/main/siamese.ipynb\" target=\"_parent\"><img src=\"https://colab.research.google.com/assets/colab-badge.svg\" alt=\"Open In Colab\"/></a>"
      ]
    },
    {
      "cell_type": "code",
      "execution_count": 1,
      "metadata": {
        "id": "rk1yFealO_rP"
      },
      "outputs": [],
      "source": [
        "# !pip install --upgrade matplotlib"
      ]
    },
    {
      "cell_type": "code",
      "execution_count": 2,
      "metadata": {
        "id": "27yi3DA6GufV"
      },
      "outputs": [],
      "source": [
        "import numpy as np\n",
        "import math\n",
        "import random\n",
        "import matplotlib.pyplot as plt\n",
        "import time\n",
        "import pickle\n",
        "import os\n",
        "from pathlib import Path\n",
        "import time \n",
        "import collections\n",
        "\n",
        "import torch\n",
        "import torchvision\n",
        "import torch.nn as nn\n",
        "import torch.nn.functional as F\n",
        "import torch.optim as optim\n",
        "from torchvision.io import read_image\n",
        "import torchvision.transforms as transforms\n",
        "import torchvision.transforms as T\n",
        "from torch.utils.data import Dataset, DataLoader \n",
        "from torchvision.models import efficientnet_v2_s, EfficientNet_V2_S_Weights\n",
        "\n",
        "# to ensure reproducibility\n",
        "torch.manual_seed(0)\n",
        "random.seed(0)\n",
        "np.random.seed(0)"
      ]
    },
    {
      "cell_type": "code",
      "execution_count": 3,
      "metadata": {
        "id": "C3tp0XwOIszt"
      },
      "outputs": [],
      "source": [
        "transforms = nn.Sequential(\n",
        "  T.Resize((228, 228))\n",
        ")"
      ]
    },
    {
      "cell_type": "code",
      "execution_count": 4,
      "metadata": {
        "id": "QU_LEdFEKSKN"
      },
      "outputs": [],
      "source": [
        "# configurations \n",
        "IMAGES_DATA_DIR = \"./drive/MyDrive/capstone/train/\"\n",
        "\n",
        "NUM_SAMPLES = 1028\n",
        "BATCH_SIZE = 16\n",
        "LR = 0.0001\n",
        "EPOCHS = 100\n",
        "EMB_SIZE = 100\n",
        "\n",
        "DEVICE = 'cuda:0' if torch.cuda.is_available() else 'cpu'"
      ]
    },
    {
      "cell_type": "code",
      "execution_count": 5,
      "metadata": {
        "id": "DNCoYL4pExZZ"
      },
      "outputs": [],
      "source": [
        "class SiameseDataset(Dataset): \n",
        "\n",
        "  def __init__(self, images_folder_path, transform=None, num_samples=10, **kwargs):\n",
        "    self.images_folder_path = images_folder_path\n",
        "    self.transform = transform\n",
        "    self.num_samples = num_samples\n",
        "\n",
        "    self.class_names = [name for name in os.listdir(self.images_folder_path) if os.path.isdir(os.path.join(self.images_folder_path, name))]\n",
        "    self.all_images = [[self.class_names[i] + \"/\" + name for name in os.listdir(self.images_folder_path + self.class_names[i])] for i in range(len(self.class_names))]\n",
        "\n",
        "    self.data = self.create_dataset()\n",
        "\n",
        "  def __getitem__(self, index):\n",
        "\n",
        "    img1 = read_image(str(Path(self.images_folder_path) / self.data[0][index]))\n",
        "    img2 = read_image(str(Path(self.images_folder_path) / self.data[1][index]))\n",
        "\n",
        "    if self.transform is not None:\n",
        "      img1_transformed = self.transform(img1)\n",
        "      img2_transformed = self.transform(img2)\n",
        "\n",
        "    return img1_transformed, img2_transformed, self.data[2][index], self.data[3][index], self.data[4][index]\n",
        "\n",
        "  def __len__(self): \n",
        "      return self.num_samples\n",
        "\n",
        "  def get_sample(self):\n",
        "    get_same_class = np.random.randint(0, 2, size=self.num_samples) \n",
        "    image_one_class = np.random.randint(0, len(self.class_names), size=self.num_samples)\n",
        "    image_two_class = [\n",
        "      np.random.choice(\n",
        "        [x for x in range(len(self.class_names)) if x != image_one_class[i]]\n",
        "      ) \n",
        "      if get_same_class[i] == 0 else image_one_class[i] for i in range(self.num_samples)\n",
        "    ]\n",
        "\n",
        "    # to do: images 1 and 2 may be the same photo when the classes are the same \n",
        "    image_one = list(map(lambda x: random.choice(self.all_images[x]), image_one_class))\n",
        "    image_two = list(map(lambda x: random.choice(self.all_images[x]), image_two_class))\n",
        "\n",
        "    return image_one, image_two, image_one_class, image_two_class, get_same_class\n",
        "\n",
        "  def create_dataset(self): \n",
        "    x1, x2, c1, c2, y = self.get_sample()\n",
        "    return x1, x2, c1, c2, y"
      ]
    },
    {
      "cell_type": "code",
      "execution_count": 6,
      "metadata": {
        "id": "sAf55m9YJEAY"
      },
      "outputs": [],
      "source": [
        "def show(imgs):\n",
        "  fix, axs = plt.subplots(ncols=len(imgs), squeeze=False)\n",
        "  for i, img in enumerate(imgs):\n",
        "    img = T.ToPILImage()(img.to(DEVICE))\n",
        "    axs[0, i].imshow(np.asarray(img))\n",
        "    axs[0, i].set(xticklabels=[], yticklabels=[], xticks=[], yticks=[])"
      ]
    },
    {
      "cell_type": "code",
      "execution_count": 7,
      "metadata": {
        "colab": {
          "base_uri": "https://localhost:8080/",
          "height": 158
        },
        "id": "lDA46-Y8E08O",
        "outputId": "a3840d89-e23b-4649-e746-39d5b9c0325b"
      },
      "outputs": [
        {
          "output_type": "stream",
          "name": "stdout",
          "text": [
            "tensor([0, 1, 1, 0, 1, 1, 1, 1])\n",
            "time 2.9916966240000002\n"
          ]
        },
        {
          "output_type": "display_data",
          "data": {
            "text/plain": [
              "<Figure size 432x288 with 8 Axes>"
            ],
            "image/png": "[encoded data removed]"
          },
          "metadata": {}
        },
        {
          "output_type": "display_data",
          "data": {
            "text/plain": [
              "<Figure size 432x288 with 8 Axes>"
            ],
            "image/png": "[encoded data removed]"
          },
          "metadata": {}
        }
      ],
      "source": [
        "start = time.process_time()\n",
        "\n",
        "sampleset = SiameseDataset(images_folder_path=IMAGES_DATA_DIR, transform=transforms, num_samples=16)\n",
        "sampleloader = DataLoader(sampleset, batch_size = 8)\n",
        "dataiter = iter(sampleloader)\n",
        "samplebatch = next(dataiter)\n",
        "\n",
        "x, y, _, _, z = samplebatch\n",
        "show(x)\n",
        "show(y)\n",
        "print(z)\n",
        "\n",
        "print('time', time.process_time() - start)"
      ]
    },
    {
      "cell_type": "code",
      "execution_count": 8,
      "metadata": {
        "id": "I7R06blCJGYa"
      },
      "outputs": [],
      "source": [
        "full_dataset = SiameseDataset(images_folder_path=IMAGES_DATA_DIR, transform=transforms, num_samples=NUM_SAMPLES)\n",
        "\n",
        "train_size = int(0.8 * len(full_dataset))\n",
        "val_size = len(full_dataset) - train_size\n",
        "\n",
        "train_dataset, val_dataset = torch.utils.data.random_split(full_dataset, [train_size, val_size])\n",
        "\n",
        "trainloader = DataLoader(train_dataset,\n",
        "                        shuffle = True,\n",
        "                        num_workers = 2, \n",
        "                        batch_size = BATCH_SIZE)\n",
        "valloader = DataLoader(val_dataset,\n",
        "                       shuffle = False,\n",
        "                       num_workers = 2,\n",
        "                       batch_size = BATCH_SIZE)"
      ]
    },
    {
      "cell_type": "code",
      "execution_count": 9,
      "metadata": {
        "colab": {
          "base_uri": "https://localhost:8080/"
        },
        "id": "VU-hScM_Y7Wb",
        "outputId": "a12d0f49-fd45-4552-9af9-0343764283b4"
      },
      "outputs": [
        {
          "output_type": "execute_result",
          "data": {
            "text/plain": [
              "(822, 206)"
            ]
          },
          "metadata": {},
          "execution_count": 9
        }
      ],
      "source": [
        "train_size, val_size"
      ]
    },
    {
      "cell_type": "code",
      "source": [
        "with open(f'drive//MyDrive//capstone//data//train_dataset_b{BATCH_SIZE}_lr{LR}_num{NUM_SAMPLES}_emb{EMB_SIZE}.pickle', 'wb') as handle:\n",
        "  pickle.dump(train_dataset, handle, protocol=pickle.HIGHEST_PROTOCOL)\n",
        "\n",
        "with open(f'drive//MyDrive//capstone//data//val_dataset_b{BATCH_SIZE}_lr{LR}_num{NUM_SAMPLES}_emb{EMB_SIZE}.pickle', 'wb') as handle:\n",
        "  pickle.dump(val_dataset, handle, protocol=pickle.HIGHEST_PROTOCOL)"
      ],
      "metadata": {
        "id": "rMSAd9hx_QU3"
      },
      "execution_count": 10,
      "outputs": []
    },
    {
      "cell_type": "markdown",
      "metadata": {
        "id": "_7TfyOyTTYtM"
      },
      "source": [
        "eda"
      ]
    },
    {
      "cell_type": "code",
      "execution_count": 11,
      "metadata": {
        "id": "4jj3dVfHaOy2"
      },
      "outputs": [],
      "source": [
        "class_names = full_dataset.class_names\n",
        "\n",
        "sampleloader = DataLoader(train_dataset, batch_size = train_size)\n",
        "dataiter = iter(sampleloader)\n",
        "img1, img2, img1class, img2class, label = next(dataiter)"
      ]
    },
    {
      "cell_type": "code",
      "execution_count": 12,
      "metadata": {
        "colab": {
          "base_uri": "https://localhost:8080/",
          "height": 297
        },
        "id": "SqvBObifVtty",
        "outputId": "8f54bf02-4340-4233-b911-4c4d279d78bc"
      },
      "outputs": [
        {
          "output_type": "display_data",
          "data": {
            "text/plain": [
              "<Figure size 432x288 with 1 Axes>"
            ],
            "image/png": "[encoded data removed]"
          },
          "metadata": {
            "needs_background": "light"
          }
        }
      ],
      "source": [
        "counter = collections.Counter(label.numpy())\n",
        "\n",
        "fig, ax = plt.subplots()\n",
        "\n",
        "p = plt.bar(counter.keys(), counter.values())\n",
        "plt.bar_label(p, label_type='center')\n",
        "\n",
        "ax.set_title(\"Number of positive and negative samples in the training dataset\")\n",
        "fig.tight_layout()\n",
        "plt.show()"
      ]
    },
    {
      "cell_type": "code",
      "execution_count": 13,
      "metadata": {
        "colab": {
          "base_uri": "https://localhost:8080/",
          "height": 574
        },
        "id": "l6TTqVRMtGTN",
        "outputId": "41a36816-8ec6-42f7-ea31-557e3b82c28d"
      },
      "outputs": [
        {
          "output_type": "display_data",
          "data": {
            "text/plain": [
              "<Figure size 576x576 with 1 Axes>"
            ],
            "image/png": "[encoded data removed]"
          },
          "metadata": {
            "needs_background": "light"
          }
        }
      ],
      "source": [
        "d = dict()\n",
        "\n",
        "one = img1class.numpy()\n",
        "two = img2class.numpy()\n",
        "num_classes = len(np.unique(one))\n",
        "\n",
        "res = np.zeros((num_classes, num_classes))\n",
        "\n",
        "for l in range(len(one)): \n",
        "  res[one[l], two[l]] += 1\n",
        "\n",
        "fig, ax = plt.subplots()\n",
        "fig.set_figheight(8)\n",
        "fig.set_figwidth(8)\n",
        "\n",
        "ax.imshow(res)\n",
        "\n",
        "ax.set_xticks(np.arange(num_classes), labels=class_names)\n",
        "ax.set_yticks(np.arange(num_classes), labels=class_names)\n",
        "\n",
        "for i in range(num_classes):\n",
        "    for j in range(num_classes):\n",
        "        text = ax.text(j, i, res[i, j], ha=\"center\", va=\"center\", color=\"w\")\n",
        "\n",
        "ax.set_title(\"Number of training samples for each image1-image2 pair\")\n",
        "fig.tight_layout()\n",
        "plt.show()"
      ]
    },
    {
      "cell_type": "markdown",
      "metadata": {
        "id": "bp7-0hxqTbEO"
      },
      "source": [
        "model training"
      ]
    },
    {
      "cell_type": "code",
      "execution_count": 14,
      "metadata": {
        "id": "WWXZWSlNLHjV"
      },
      "outputs": [],
      "source": [
        "class SiameseModel(nn.Module):\n",
        "  \n",
        "  def __init__(self, emb_size = EMB_SIZE): \n",
        "    super(SiameseModel, self).__init__()\n",
        "\n",
        "    self.weights = EfficientNet_V2_S_Weights.IMAGENET1K_V1\n",
        "    self.siamese = efficientnet_v2_s(weights=self.weights)\n",
        "    self.siamese.classifier = nn.Sequential(\n",
        "        nn.Linear(self.siamese.classifier[1].in_features, 500),\n",
        "        nn.ReLU(inplace = True),\n",
        "        nn.Linear(500, emb_size)\n",
        "    )\n",
        "    self.classifier = nn.Sequential(\n",
        "        nn.Linear(emb_size, 1),\n",
        "        nn.Sigmoid()\n",
        "    )\n",
        "\n",
        "  def forward(self, img1, img2): \n",
        "    preprocess = self.weights.transforms()\n",
        "    x1 = preprocess(img1)\n",
        "    x2 = preprocess(img2)\n",
        "    out1 = self.siamese(x1)\n",
        "    out2 = self.siamese(x2)\n",
        "    # multiply to get combined feature vector representing the similarity btwn the two\n",
        "    combined_features = out1 * out2\n",
        "    output = self.classifier(combined_features)\n",
        "    return output"
      ]
    },
    {
      "cell_type": "code",
      "execution_count": 15,
      "metadata": {
        "id": "bNTTxQDsLJ_2"
      },
      "outputs": [],
      "source": [
        "# Define the Contrastive Loss Function\n",
        "class ContrastiveLoss(torch.nn.Module):\n",
        "  def __init__(self, margin=2.0):\n",
        "    super(ContrastiveLoss, self).__init__()\n",
        "    self.margin = margin\n",
        "\n",
        "  def forward(self, output1, output2, label):\n",
        "    # Calculate the euclidean distance and calculate the contrastive loss\n",
        "    euclidean_distance = F.pairwise_distance(output1, output2, keepdim = True)\n",
        "    loss_contrastive = torch.mean((1-label) * torch.pow(euclidean_distance, 2) +\n",
        "                                (label) * torch.pow(torch.clamp(self.margin - euclidean_distance, min=0.0), 2))\n",
        "    return loss_contrastive"
      ]
    },
    {
      "cell_type": "code",
      "execution_count": 16,
      "metadata": {
        "id": "qImnF_M_LLkz"
      },
      "outputs": [],
      "source": [
        "model = SiameseModel()\n",
        "model.to(DEVICE)\n",
        "\n",
        "baseline_model = SiameseModel()\n",
        "baseline_model.to(DEVICE)\n",
        "\n",
        "# criterion = ContrastiveLoss()\n",
        "criterion = torch.nn.BCELoss()\n",
        "optimizer = optim.Adam(model.parameters(), lr = LR)"
      ]
    },
    {
      "cell_type": "code",
      "execution_count": 17,
      "metadata": {
        "id": "c3FS2cFWehDr"
      },
      "outputs": [],
      "source": [
        "# Initializing in a separate cell so we can easily add more epochs to the same run\n",
        "epoch_number = 0\n",
        "best_vloss = 1_000_000.\n",
        "train_loss_history = []\n",
        "val_loss_history = []"
      ]
    },
    {
      "cell_type": "code",
      "execution_count": null,
      "metadata": {
        "colab": {
          "base_uri": "https://localhost:8080/"
        },
        "id": "a8F13jSHZmYE",
        "outputId": "35b754e1-323e-4da5-e56f-3848a1d5ca2f"
      },
      "outputs": [
        {
          "output_type": "stream",
          "name": "stdout",
          "text": [
            "[Sat Sep 24 16:19:17 2022] [Epoch 1] train loss: 0.315 val loss: 0.261 train acc: 0.261 val acc: 0.898\n"
          ]
        }
      ],
      "source": [
        "for epoch in range(500):\n",
        "\n",
        "  # Make sure gradient tracking is on, and do a pass over the data\n",
        "  model.train(True)\n",
        "\n",
        "  tloss_history = []\n",
        "  tcorrect = 0\n",
        "  ttotal = 0\n",
        "  for _, data in enumerate(trainloader):\n",
        "    img0, img1, _, _, label = data\n",
        "    img0, img1, label = img0.to(DEVICE), img1.to(DEVICE), label.float().to(DEVICE)\n",
        "    optimizer.zero_grad()\n",
        "    \n",
        "    output = model(img0, img1).squeeze(1)\n",
        "    loss = criterion(output, label)\n",
        "\n",
        "    tcorrect += torch.count_nonzero(label == (output > 0.5)).item()\n",
        "    ttotal += len(label)\n",
        "\n",
        "    loss.backward()\n",
        "    optimizer.step()\n",
        "    tloss_history.append(loss.item())\n",
        "\n",
        "  # We don't need gradients on to do reporting\n",
        "  model.train(False)\n",
        "\n",
        "  # Do validation\n",
        "  vloss_history = []\n",
        "  vcorrect = 0\n",
        "  vtotal = 0\n",
        "  with torch.no_grad():\n",
        "    for _, vdata in enumerate(valloader):\n",
        "      vimg0, vimg1, _, _, vlabel = vdata\n",
        "      vimg0, vimg1, vlabel = vimg0.to(DEVICE), vimg1.to(DEVICE), vlabel.float().to(DEVICE)\n",
        "    \n",
        "      voutput = model(vimg0, vimg1).squeeze(1)\n",
        "      vloss = criterion(voutput, vlabel)\n",
        "      \n",
        "      vcorrect += torch.count_nonzero(vlabel == (voutput > 0.5)).item()\n",
        "      vtotal += len(vlabel)\n",
        "\n",
        "      vloss_history.append(vloss.item())\n",
        "\n",
        "  # Calculate train and val loss \n",
        "  avg_tloss = np.mean(tloss_history)\n",
        "  avg_vloss = np.mean(vloss_history)\n",
        "  avg_tacc = tcorrect / ttotal\n",
        "  avg_vacc = vcorrect / vtotal\n",
        "  \n",
        "  if epoch % 10 == 0:\n",
        "    print(f'[{time.ctime()}] [Epoch {epoch_number}] train loss: {avg_tloss:.3f} val loss: {avg_vloss:.3f} train acc: {avg_vloss:.3f} val acc: {avg_vacc:.3f}')\n",
        "\n",
        "  # Track best performance, and save the model's state\n",
        "  if avg_vloss < best_vloss:\n",
        "    best_vloss = avg_vloss\n",
        "    model_path = f'drive//MyDrive//capstone//model//siamese_model_e{epoch_number}_b{BATCH_SIZE}_lr{LR}_num{NUM_SAMPLES}_emb{EMB_SIZE}.pth'\n",
        "    torch.save(model.state_dict(), model_path)\n",
        "\n",
        "  train_loss_history.append(tloss_history)\n",
        "  val_loss_history.append(vloss_history)\n",
        "\n",
        "  if epoch+1 % 50 == 0:\n",
        "    # save the progress \n",
        "    model_path = f'drive//MyDrive//capstone//model//siamese_model_e{epoch_number}_b{BATCH_SIZE}_lr{LR}_num{NUM_SAMPLES}_emb{EMB_SIZE}.pth'\n",
        "    torch.save(model.state_dict(), model_path)\n",
        "    with open(f'drive//MyDrive//capstone//model//train_loss_history_e{epoch_number}_b{BATCH_SIZE}_lr{LR}_num{NUM_SAMPLES}_emb{EMB_SIZE}.pickle', 'wb') as handle:\n",
        "      pickle.dump(train_loss_history, handle, protocol=pickle.HIGHEST_PROTOCOL)\n",
        "    with open(f'drive//MyDrive//capstone//model//val_loss_history_e{epoch_number}_b{BATCH_SIZE}_lr{LR}_num{NUM_SAMPLES}_emb{EMB_SIZE}.pickle', 'wb') as handle:\n",
        "      pickle.dump(val_loss_history, handle, protocol=pickle.HIGHEST_PROTOCOL)\n",
        "\n",
        "  epoch_number += 1"
      ]
    },
    {
      "cell_type": "code",
      "execution_count": null,
      "metadata": {
        "id": "N3y1tuGifcBM"
      },
      "outputs": [],
      "source": [
        "# save the progress \n",
        "with open(f'drive//MyDrive//capstone//model//train_loss_history_e{epoch_number}_b{BATCH_SIZE}_lr{LR}_num{NUM_SAMPLES}.pickle', 'wb') as handle:\n",
        "  pickle.dump(train_loss_history, handle, protocol=pickle.HIGHEST_PROTOCOL)\n",
        "\n",
        "with open(f'drive//MyDrive//capstone//model//val_loss_history_e{epoch_number}_b{BATCH_SIZE}_lr{LR}_num{NUM_SAMPLES}.pickle', 'wb') as handle:\n",
        "  pickle.dump(val_loss_history, handle, protocol=pickle.HIGHEST_PROTOCOL) \n",
        "\n",
        "# make sure the latest model is saved \n",
        "model_path = f'drive//MyDrive//capstone//model//siamese_model_e{epoch_number}_b{BATCH_SIZE}_lr{LR}_num{NUM_SAMPLES}.pth'\n",
        "torch.save(model.state_dict(), model_path)"
      ]
    },
    {
      "cell_type": "code",
      "execution_count": null,
      "metadata": {
        "id": "N2V3FiKGzbOP"
      },
      "outputs": [],
      "source": [
        "plt.plot(range(len(train_loss_history)), [np.mean(x) for x in train_loss_history])\n",
        "plt.show()"
      ]
    },
    {
      "cell_type": "code",
      "execution_count": null,
      "metadata": {
        "id": "2qbhRKJYzfnf"
      },
      "outputs": [],
      "source": [
        "plt.plot(range(len(val_loss_history)), [np.mean(x) for x in val_loss_history])\n",
        "plt.show()"
      ]
    },
    {
      "cell_type": "markdown",
      "metadata": {
        "id": "T0QTG7fl6KKS"
      },
      "source": [
        "model testing"
      ]
    },
    {
      "cell_type": "code",
      "execution_count": null,
      "metadata": {
        "id": "EJ4MBUzAaI8o"
      },
      "outputs": [],
      "source": [
        "TEST_DATA_DIR = \"./drive/MyDrive/capstone/test/\"\n",
        "TEST_SAMPLES = 128\n",
        "\n",
        "testset = SiameseDataset(images_folder_path=TEST_DATA_DIR, transform=transforms, num_samples=TEST_SAMPLES)\n",
        "testloader = DataLoader(testset,\n",
        "                        shuffle = True,\n",
        "                        batch_size = 1)\n",
        "\n",
        "dataiter = iter(testloader)\n",
        "samplebatch = next(dataiter)\n",
        "\n",
        "x, y, _, _, z = samplebatch\n",
        "show(x)\n",
        "show(y)\n",
        "print(z)"
      ]
    },
    {
      "cell_type": "code",
      "source": [
        "threshold = 0.5\n",
        "\n",
        "model_correct = 0 \n",
        "baseline_model_correct = 0 \n",
        "total = 0\n",
        "\n",
        "with torch.no_grad():\n",
        "  for _, vdata in enumerate(testloader):\n",
        "    vimg0, vimg1, _, _, vlabel = vdata\n",
        "    vimg0, vimg1, vlabel = vimg0.to(DEVICE), vimg1.to(DEVICE), vlabel.to(DEVICE)\n",
        "\n",
        "    vout0, vout1 = model(vimg0, vimg1)\n",
        "    euclidean_distance = F.pairwise_distance(vout0, vout1)\n",
        "\n",
        "    b_vout0, b_vout1 = baseline_model(vimg0, vimg1)\n",
        "    b_euclidean_distance = F.pairwise_distance(b_vout0, b_vout1)\n",
        "\n",
        "    model_correct += sum((euclidean_distance > threshold).float() == vlabel)\n",
        "    baseline_model_correct += sum((b_euclidean_distance > threshold).float() == vlabel)\n",
        "\n",
        "    total += vlabel.shape[0]\n",
        "\n",
        "print('model accuracy is', model_correct/total)\n",
        "print('baseline model accuracy is', baseline_model_correct/total)"
      ],
      "metadata": {
        "id": "o6l6bTQuCOnF"
      },
      "execution_count": null,
      "outputs": []
    }
  ],
  "metadata": {
    "accelerator": "GPU",
    "colab": {
      "collapsed_sections": [],
      "machine_shape": "hm",
      "provenance": [],
      "mount_file_id": "19D05jb1JTVcodQv8M0CtBIUf8KnA-22m",
      "authorship_tag": "ABX9TyNDnRy16YfOGdZgu8JR+yuc",
      "include_colab_link": true
    },
    "gpuClass": "standard",
    "kernelspec": {
      "display_name": "Python 3",
      "name": "python3"
    },
    "language_info": {
      "name": "python"
    }
  },
  "nbformat": 4,
  "nbformat_minor": 0
}