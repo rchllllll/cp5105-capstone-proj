{
 "cells": [
  {
   "cell_type": "code",
   "execution_count": 15,
   "metadata": {},
   "outputs": [],
   "source": [
    "import os \n",
    "from pathlib import Path\n",
    "import cv2\n",
    "import sys\n",
    "from itertools import compress\n",
    "import matplotlib.pyplot as plt\n",
    "\n",
    "from InferenceDataset import *\n",
    "from SiameseNetworkAPI import *\n",
    "\n",
    "torch.manual_seed(0)\n",
    "random.seed(0)\n",
    "np.random.seed(0)\n",
    "torch.use_deterministic_algorithms(True)"
   ]
  },
  {
   "cell_type": "code",
   "execution_count": 16,
   "metadata": {},
   "outputs": [
    {
     "name": "stderr",
     "output_type": "stream",
     "text": [
      "Using cache found in /Users/racheltay/.cache/torch/hub/ultralytics_yolov5_master\n"
     ]
    }
   ],
   "source": [
    "%matplotlib inline\n",
    "\n",
    "main_folder = '/Users/racheltay/Documents/school/cp5105-capstone-proj/data/'\n",
    "obj_folder = main_folder+'ziwen/mouse/'\n",
    "# video_path = '/Users/racheltay/Documents/school/cp5105-capstone-proj/data/inference_test/video/room1.mp4'\n",
    "video_path = main_folder+'ziwen/test2.jpg'\n",
    "\n",
    "threshold = 0.2\n",
    "\n",
    "all_img_of_obj = load_images_from_folder(obj_folder)\n",
    "\n",
    "cap = cv2.VideoCapture(video_path)\n",
    "total_frames = int(cap.get(cv2.CAP_PROP_FRAME_COUNT))\n",
    "sample_rate = 1\n",
    "\n",
    "for fno in range(0, total_frames, sample_rate):\n",
    "\tcap.set(cv2.CAP_PROP_POS_FRAMES, fno)\n",
    "\t_, image = cap.read()\n",
    "\tmodel = SiameseNetworkAPI(all_img_of_obj, image)\n",
    "\txy_coords, conf_scores = model.inference()\n",
    "\tprint('conf_scores', conf_scores)\n",
    "\n",
    "\taccepted = list(compress(xy_coords, [x > threshold for x in conf_scores]))\n",
    "\tif len(accepted) > 0:\n",
    "\t\tfor coords in accepted:\n",
    "\t\t\tx1, y1, x2, y2 = coords\n",
    "\t\t\tx1, y1, x2, y2 = round(x1.item()), round(y1.item()), round(x2.item()), round(y2.item())\n",
    "\t\t\tplt.imshow(cv2.cvtColor(image[y1:y2, x1:x2], cv2.COLOR_BGR2RGB))\n",
    "\t\t\tplt.show()"
   ]
  },
  {
   "cell_type": "code",
   "execution_count": null,
   "metadata": {},
   "outputs": [],
   "source": [
    "%matplotlib inline\n",
    "\n",
    "# model = SiameseNetworkAPI(all_img_of_obj, image)\n",
    "results = model.obj_detection_model(image, size=228).crop(save=False)\n",
    "\n",
    "# model = torch.hub.load('ultralytics/yolov5', 'yolov5s', pretrained=True,  _verbose=False)\n",
    "# # model.iou = 0.01\n",
    "\n",
    "# results = model(image, size=288).crop(save=False)\n",
    "\n",
    "print('objects found by yolov5')\n",
    "\n",
    "for i in results: \n",
    "\tx1, y1, x2, y2 = [round(x.item()) for x in i['box']]\n",
    "\tplt.imshow(cv2.cvtColor(image[y1:y2, x1:x2], cv2.COLOR_BGR2RGB))\n",
    "\tplt.show()"
   ]
  },
  {
   "cell_type": "code",
   "execution_count": null,
   "metadata": {},
   "outputs": [],
   "source": [
    "# to print the frames of the video \n",
    "all_img_of_obj = load_images_from_folder(obj_folder)\n",
    "\n",
    "cap = cv2.VideoCapture(video_path)\n",
    "total_frames = int(cap.get(cv2.CAP_PROP_FRAME_COUNT))\n",
    "sample_rate = 20\n",
    "\n",
    "for fno in range(0, total_frames, sample_rate):\n",
    "\tcap.set(cv2.CAP_PROP_POS_FRAMES, fno)\n",
    "\t_, image = cap.read()\n",
    "\tplt.imshow(cv2.cvtColor(image, cv2.COLOR_BGR2RGB))\n",
    "\tplt.show()"
   ]
  }
 ],
 "metadata": {
  "kernelspec": {
   "display_name": "capstone",
   "language": "python",
   "name": "python3"
  },
  "language_info": {
   "codemirror_mode": {
    "name": "ipython",
    "version": 3
   },
   "file_extension": ".py",
   "mimetype": "text/x-python",
   "name": "python",
   "nbconvert_exporter": "python",
   "pygments_lexer": "ipython3",
   "version": "3.10.9"
  },
  "orig_nbformat": 4,
  "vscode": {
   "interpreter": {
    "hash": "d347904d9d4f6512244ed3c02df61b20888d7cbb772f4d694cbb368e3be714c6"
   }
  }
 },
 "nbformat": 4,
 "nbformat_minor": 2
}
